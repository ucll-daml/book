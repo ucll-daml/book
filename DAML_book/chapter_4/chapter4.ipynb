{
 "cells": [
  {
   "cell_type": "code",
   "execution_count": null,
   "metadata": {
    "tags": [
     "remove-input"
    ]
   },
   "outputs": [],
   "source": [
    "from jupytercards import display_flashcards\n",
    "from jupyterquiz import display_quiz\n",
    "import json\n",
    "import os"
   ]
  },
  {
   "cell_type": "markdown",
   "metadata": {},
   "source": [
    "# Chapter 4: AI Isn't Magic, But It's Okay If It Feels Like It\n",
    "\n",
    "We've journeyed through the landscape of our data, gaining valuable insights through exploration and visualization. Armed with this knowledge, we can make informed decisions about our travel agency's operations, marketing strategies, and customer service. But as programmers, we crave efficiency and automation. Can't we go a step further and teach machines to make these decisions for us?\n",
    "\n",
    "## From Intuition to Algorithms\n",
    "Imagine trying to automate decisions based on our data.  We could write countless if-then-else statements to capture every possible scenario:\n",
    "* \"If the customer is young and traveling with friends, recommend adventurous destinations.\"\n",
    "* \"If the customer is older and prefers luxury, suggest a relaxing beach vacation.\"\n",
    "* ...\n",
    "\n",
    "But this quickly becomes overwhelming. What if we could extract these decision-making rules directly from the data itself?  This is the essence of supervised learning.\n",
    "\n",
    "The core intuition behind supervised learning is simple: similar inputs should lead to similar outputs. A young adventurer booking a trip to the mountains is likely to have similar preferences to another young adventurer. But how do we define \"similar\"? This leads us to algorithms like K-Nearest Neighbors (KNN), which classify new data points based on their proximity to known data points.\n",
    "\n",
    "This is where the magic of AI starts to emerge. We're not explicitly programming the rules; we're allowing the algorithm to learn them from the data. Sometimes, the output we want is a simple yes/no (classification, like predicting whether a customer will book a trip). Other times, it's a continuous value (regression, like predicting the price a customer is willing to pay).\n",
    "\n",
    "### Beyond Basic Rules: Capturing Relationships\n",
    "\n",
    "But we can be even smarter. Instead of just looking at similar inputs, what if we could learn a more general relationship between the input and output? This is where linear regression comes in. Remember those correlations we explored? Linear regression is like their sophisticated cousin, finding the best-fitting line to capture the relationship between two variables. It's also related to the concept of variance, though the exact details of how these statistical concepts intertwine can remain a bit magical for now.\n",
    "\n",
    "In this chapter, we'll delve into these fundamental supervised learning algorithms, exploring how they work, how to train them, and how to evaluate their performance. We'll also learn about essential techniques like feature scaling, which ensures that all our variables are on a level playing field. Get ready to unlock the power of predictive modeling and witness how AI can transform data into actionable insights."
   ]
  }
 ],
 "metadata": {
  "language_info": {
   "name": "python"
  }
 },
 "nbformat": 4,
 "nbformat_minor": 2
}
